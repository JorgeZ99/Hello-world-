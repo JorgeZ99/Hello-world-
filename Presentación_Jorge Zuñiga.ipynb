{
 "cells": [
  {
   "cell_type": "markdown",
   "metadata": {},
   "source": [
    "<img style=\"float: right; margin: 0px 0px 15px 15px;\" src=\"https://scontent-dfw5-1.xx.fbcdn.net/v/t1.0-9/31087079_1345069082292384_5063227256084627456_n.jpg?_nc_cat=0&oh=2598d5370722d61f649d9de78add214d&oe=5B9579B1\" width=\"300px\" height=\"100px\" />\n",
    "# <font color = \"red\" >  Jorge Zuñiga de 18 años </font>\n",
    "\n",
    "## <font color = \"blue\" > Nacido en Zapopan </font>\n",
    "\n",
    "## <font color = \"green\" > Estudiando Ingenieria financiera </font>"
   ]
  },
  {
   "cell_type": "markdown",
   "metadata": {},
   "source": [
    "## Biografia \n",
    " ·*Me considero una persona responsable y trabajadora.* \n",
    " \n",
    " ·*Me gusta hacer ejericio y cualquier cosa asociada con la actividad fisica.*\n",
    " \n",
    " ·*Disfruto mucho de la compañia de mis amigos,novia y familia.*\n",
    " \n",
    " ·*Considero el fútbol y la lectura como uno de mis mejores pasatiempos.*"
   ]
  },
  {
   "cell_type": "markdown",
   "metadata": {},
   "source": []
  },
  {
   "cell_type": "markdown",
   "metadata": {},
   "source": [
    "# Expectativas del curso\n",
    "   **La clase de simulacion matematica me parecio muy interesante desde la introduccion y creo que el maestro sabe mucho sobre el tema**\n",
    "   \n",
    "   Espero aprender desde el inicio como funciona la simulacion y como se utiliza en los ambitoa profesional, laboral y aplicarlo hasta para un negocio tuyo. Me gustaria aprender lo más que se pueda de esta materia que es muy importante en el mundo de las finanzas.\n",
    "   \n",
    "   Quiero aprender mas del lenguaje python y aplicarlos en escenarios.\n",
    "  "
   ]
  },
  {
   "cell_type": "code",
   "execution_count": null,
   "metadata": {},
   "outputs": [],
   "source": []
  }
 ],
 "metadata": {
  "kernelspec": {
   "display_name": "Python 3",
   "language": "python",
   "name": "python3"
  },
  "language_info": {
   "codemirror_mode": {
    "name": "ipython",
    "version": 3
   },
   "file_extension": ".py",
   "mimetype": "text/x-python",
   "name": "python",
   "nbconvert_exporter": "python",
   "pygments_lexer": "ipython3",
   "version": "3.6.4"
  }
 },
 "nbformat": 4,
 "nbformat_minor": 2
}
